{
 "cells": [
  {
   "cell_type": "code",
   "execution_count": 19,
   "metadata": {},
   "outputs": [
    {
     "name": "stdout",
     "output_type": "stream",
     "text": [
      "Populating the interactive namespace from numpy and matplotlib\n"
     ]
    }
   ],
   "source": [
    "import matplotlib.pyplot as plt\n",
    "import pandas as pd\n",
    "import seaborn as sns\n",
    "%matplotlib inline\n",
    "%pylab inline"
   ]
  },
  {
   "cell_type": "code",
   "execution_count": 65,
   "metadata": {},
   "outputs": [],
   "source": [
    "def makeHeatmap(filename, title=None):\n",
    "    lines = len(open(filename).readlines())\n",
    "    data = np.zeros((lines, 5))\n",
    "    read_for = open(filename) \n",
    "    for i, txt_line in enumerate(read_for):\n",
    "        values = txt_line.split(',')\n",
    "        values = [int(value) for value in values]\n",
    "        for v in values:\n",
    "            data[i, v] = 1\n",
    "    # print(data)\n",
    "    read_for.close()\n",
    "    fig, ax = plt.subplots(1, 1, figsize=(5, 10))\n",
    "    if title is not None:\n",
    "        ax.set_title(title)\n",
    "    ax.imshow(data[:100], cmap='PuBu', aspect='auto', vmin=0.0, vmax=1.0)"
   ]
  },
  {
   "cell_type": "code",
   "execution_count": 91,
   "metadata": {},
   "outputs": [
    {
     "data": {
      "image/png": "[encoded data removed]",
      "text/plain": [
       "<Figure size 1440x360 with 4 Axes>"
      ]
     },
     "metadata": {
      "needs_background": "light"
     },
     "output_type": "display_data"
    }
   ],
   "source": [
    "filename1 = \"data/delays_async_sync_w6_b5_t10.0_a0.1_del0.01.csv\"\n",
    "title1 = \"Synchronous\"\n",
    "\n",
    "filename2 = \"data/delays_async_gpu_worker_test_w6_b1_t10.0_a0.1_del0.01.csv\"\n",
    "title2 = \"Asynchronous\"\n",
    "\n",
    "filename3 = \"data/delays_async_random_sleep_w6_b1_t10.0_a0.1_del0.01.csv\"\n",
    "title3 = \"Asynchronous (Random Sleep)\"\n",
    "\n",
    "filename4 = \"data/delays_async_one_slow_w6_b1_t10.0_a0.1_del0.01.csv\"\n",
    "title4 = \"Asynchronous (Two Slow)\"\n",
    "\n",
    "saveTo = \"/Users/rene/University/master/thesis/thesis/figures/thesis_admmsegmentation_delayvis.pdf\"\n",
    "\n",
    "fig, ax = plt.subplots(1, 4, figsize=(20, 5))\n",
    "\n",
    "# file1\n",
    "lines = len(open(filename1).readlines())\n",
    "data = np.zeros((lines, 5))\n",
    "read_for = open(filename1) \n",
    "for i, txt_line in enumerate(read_for):\n",
    "    values = txt_line.split(',')\n",
    "    values = [int(value) for value in values]\n",
    "    for v in values:\n",
    "        data[i, v] = 1\n",
    "read_for.close()\n",
    "ax[0].set_title(title1)\n",
    "ax[0].imshow(data[:100], cmap='PuBu', aspect='auto', vmin=0.0, vmax=1.0)\n",
    "\n",
    "# file2\n",
    "lines = len(open(filename2).readlines())\n",
    "data = np.zeros((lines, 5))\n",
    "read_for = open(filename2) \n",
    "for i, txt_line in enumerate(read_for):\n",
    "    values = txt_line.split(',')\n",
    "    values = [int(value) for value in values]\n",
    "    for v in values:\n",
    "        data[i, v] = 1\n",
    "read_for.close()\n",
    "ax[1].set_title(title2)\n",
    "ax[1].imshow(data[:100], cmap='PuBu', aspect='auto', vmin=0.0, vmax=1.0)\n",
    "\n",
    "# file3\n",
    "lines = len(open(filename3).readlines())\n",
    "data = np.zeros((lines, 5))\n",
    "read_for = open(filename3) \n",
    "for i, txt_line in enumerate(read_for):\n",
    "    values = txt_line.split(',')\n",
    "    values = [int(value) for value in values]\n",
    "    for v in values:\n",
    "        data[i, v] = 1\n",
    "read_for.close()\n",
    "ax[2].set_title(title3)\n",
    "ax[2].imshow(data[:100], cmap='PuBu', aspect='auto', vmin=0.0, vmax=1.0)\n",
    "\n",
    "# file4\n",
    "lines = len(open(filename4).readlines())\n",
    "data = np.zeros((lines, 5))\n",
    "read_for = open(filename4) \n",
    "for i, txt_line in enumerate(read_for):\n",
    "    values = txt_line.split(',')\n",
    "    values = [int(value) for value in values]\n",
    "    for v in values:\n",
    "        data[i, v] = 1\n",
    "read_for.close()\n",
    "ax[3].set_title(title4)\n",
    "ax[3].imshow(data[:100], cmap='PuBu', aspect='auto', vmin=0, vmax=1.0)\n",
    "\n",
    "plt.savefig(saveTo)"
   ]
  },
  {
   "cell_type": "code",
   "execution_count": null,
   "metadata": {},
   "outputs": [],
   "source": []
  }
 ],
 "metadata": {
  "kernelspec": {
   "display_name": "Python 3",
   "language": "python",
   "name": "python3"
  },
  "language_info": {
   "codemirror_mode": {
    "name": "ipython",
    "version": 3
   },
   "file_extension": ".py",
   "mimetype": "text/x-python",
   "name": "python",
   "nbconvert_exporter": "python",
   "pygments_lexer": "ipython3",
   "version": "3.7.4"
  }
 },
 "nbformat": 4,
 "nbformat_minor": 4
}
